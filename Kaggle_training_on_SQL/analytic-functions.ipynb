{
 "cells": [
  {
   "cell_type": "markdown",
   "id": "minute-opening",
   "metadata": {
    "papermill": {
     "duration": 0.007168,
     "end_time": "2021-06-03T16:36:16.598596",
     "exception": false,
     "start_time": "2021-06-03T16:36:16.591428",
     "status": "completed"
    },
    "tags": []
   },
   "source": [
    "# Introduction\n",
    "\n",
    "In the [Intro to SQL micro-course](https://www.kaggle.com/learn/intro-to-sql), you learned how to use [**aggregate functions**](https://www.kaggle.com/dansbecker/group-by-having-count), which perform calculations based on sets of rows.  In this tutorial, you'll learn how to define **analytic functions**, which also operate on a set of rows.  However, unlike aggregate functions, analytic functions return a (potentially different) value for each row in the original table.\n",
    "\n",
    "Analytic functions allow us to perform complex calculations with relatively straightforward syntax.  For instance, we can quickly calculate moving averages and running totals, among other quantities.\n",
    "\n",
    "# Syntax\n",
    "\n",
    "To understand how to write analytic functions, we'll work with a small table containing data from two different people who are training for a race.  The `id` column identifies each runner, the `date` column holds the day of the training session, and `time` shows the time (in minutes) that the runner dedicated to training.  Say we'd like to calculate a moving average of the training times for each runner, where we always take the average of the current and previous training sessions.  We can do this with the following query:\n",
    "\n",
    "![first_query](https://i.imgur.com/rehp8HM.png)\n",
    "\n",
    "All analytic functions have an **OVER** clause, which defines the sets of rows used in each calculation.  The **OVER** clause has three (optional) parts:\n",
    "- The **PARTITION BY** clause divides the rows of the table into different groups.  In the query above, we divide by `id` so that the calculations are separated by runner.\n",
    "- The **ORDER BY** clause defines an ordering within each partition.  In the sample query, ordering by the `date` column ensures that earlier training sessions appear first.\n",
    "- The final clause (`ROWS BETWEEN 1 PRECEDING AND CURRENT ROW`) is known as a **window frame** clause.  It identifies the set of rows used in each calculation.  We can refer to this group of rows as a **window**.  (_Actually, analytic functions are sometimes referred to as **analytic window functions** or simply **window functions**!_)  \n",
    "\n",
    "![first_query](https://i.imgur.com/GjiKlA7.png)\n",
    "\n",
    "# (More on) window frame clauses\n",
    "\n",
    "There are many ways to write window frame clauses:\n",
    "- `ROWS BETWEEN 1 PRECEDING AND CURRENT ROW` - the previous row and the current row.\n",
    "- `ROWS BETWEEN 3 PRECEDING AND 1 FOLLOWING` - the 3 previous rows, the current row, and the following row.  \n",
    "- `ROWS BETWEEN UNBOUNDED PRECEDING AND UNBOUNDED FOLLOWING` - all rows in the partition.\n",
    "\n",
    "Of course, this is not an exhaustive list, and you can imagine that there are many more options!  In the code below, you'll see some of these clauses in action.\n",
    "\n",
    "# Three types of analytic functions\n",
    "\n",
    "The example above uses only one of many analytic functions.  BigQuery supports a wide variety of analytic functions, and we'll explore a few here. For a complete listing, you can take a look at the [documentation](https://cloud.google.com/bigquery/docs/reference/standard-sql/analytic-function-concepts).\n",
    "\n",
    "### 1) Analytic aggregate functions\n",
    "\n",
    "As you might recall, **AVG()** (from the example above) is an aggregate function.  The **OVER** clause is what ensures that it's treated as an analytic (aggregate) function.  **Aggregate functions** take all of the values within the window as input and return a single value.\n",
    "\n",
    "- **MIN()** (or **MAX()**) - Returns the minimum (or maximum) of input values\n",
    "- **AVG()** (or **SUM()**) - Returns the average (or sum) of input values \n",
    "- **COUNT()** - Returns the number of rows in the input\n",
    "\n",
    "### 2) Analytic navigation functions\n",
    "\n",
    "**Navigation functions** assign a value based on the value in a (usually) different row than the current row.\n",
    "- **FIRST_VALUE()** (or **LAST_VALUE()**) - Returns the first (or last) value in the input\n",
    "- **LEAD()** (and **LAG()**) - Returns the value on a subsequent (or preceding) row\n",
    "\n",
    "### 3) Analytic numbering functions\n",
    "\n",
    "**Numbering functions** assign integer values to each row based on the ordering.\n",
    "- **ROW_NUMBER()** - Returns the order in which rows appear in the input (starting with `1`)\n",
    "- **RANK()** - All rows with the same value in the ordering column receive the same rank value, where the next row receives a rank value which increments by the number of rows with the previous rank value.\n",
    "\n",
    "\n",
    "\n",
    "# Example\n",
    "\n",
    "We'll work with the [San Francisco Open Data](https://www.kaggle.com/datasf/san-francisco) dataset.  We begin by reviewing the first several rows of the `bikeshare_trips` table.  (_The corresponding code is hidden, but you can un-hide it by clicking on the \"Code\" button below._)"
   ]
  },
  {
   "cell_type": "code",
   "execution_count": 2,
   "id": "conceptual-library",
   "metadata": {
    "ExecuteTime": {
     "end_time": "2023-06-20T13:24:44.706682Z",
     "start_time": "2023-06-20T13:24:34.092018Z"
    },
    "_kg_hide-input": true,
    "execution": {
     "iopub.execute_input": "2021-06-03T16:36:16.615235Z",
     "iopub.status.busy": "2021-06-03T16:36:16.614580Z",
     "iopub.status.idle": "2021-06-03T16:36:17.802595Z",
     "shell.execute_reply": "2021-06-03T16:36:17.803104Z"
    },
    "papermill": {
     "duration": 1.198399,
     "end_time": "2021-06-03T16:36:17.803409",
     "exception": false,
     "start_time": "2021-06-03T16:36:16.605010",
     "status": "completed"
    },
    "scrolled": true,
    "tags": []
   },
   "outputs": [
    {
     "ename": "DefaultCredentialsError",
     "evalue": "Your default credentials were not found. To set up Application Default Credentials, see https://cloud.google.com/docs/authentication/external/set-up-adc for more information.",
     "output_type": "error",
     "traceback": [
      "\u001b[0;31m---------------------------------------------------------------------------\u001b[0m",
      "\u001b[0;31mDefaultCredentialsError\u001b[0m                   Traceback (most recent call last)",
      "\u001b[0;32m/var/folders/5x/lyqr8wv507n43bnwpsz4dq_c0000gn/T/ipykernel_97380/1907526583.py\u001b[0m in \u001b[0;36m<module>\u001b[0;34m\u001b[0m\n\u001b[1;32m      2\u001b[0m \u001b[0;34m\u001b[0m\u001b[0m\n\u001b[1;32m      3\u001b[0m \u001b[0;31m# Create a \"Client\" object\u001b[0m\u001b[0;34m\u001b[0m\u001b[0;34m\u001b[0m\u001b[0m\n\u001b[0;32m----> 4\u001b[0;31m \u001b[0mclient\u001b[0m \u001b[0;34m=\u001b[0m \u001b[0mbigquery\u001b[0m\u001b[0;34m.\u001b[0m\u001b[0mClient\u001b[0m\u001b[0;34m(\u001b[0m\u001b[0;34m)\u001b[0m\u001b[0;34m\u001b[0m\u001b[0;34m\u001b[0m\u001b[0m\n\u001b[0m\u001b[1;32m      5\u001b[0m \u001b[0;34m\u001b[0m\u001b[0m\n\u001b[1;32m      6\u001b[0m \u001b[0;31m# Construct a reference to the \"san_francisco\" dataset\u001b[0m\u001b[0;34m\u001b[0m\u001b[0;34m\u001b[0m\u001b[0m\n",
      "\u001b[0;32m/opt/anaconda3/envs/trainingAI/lib/python3.9/site-packages/google/cloud/bigquery/client.py\u001b[0m in \u001b[0;36m__init__\u001b[0;34m(self, project, credentials, _http, location, default_query_job_config, default_load_job_config, client_info, client_options)\u001b[0m\n\u001b[1;32m    243\u001b[0m         \u001b[0mclient_options\u001b[0m\u001b[0;34m=\u001b[0m\u001b[0;32mNone\u001b[0m\u001b[0;34m,\u001b[0m\u001b[0;34m\u001b[0m\u001b[0;34m\u001b[0m\u001b[0m\n\u001b[1;32m    244\u001b[0m     ) -> None:\n\u001b[0;32m--> 245\u001b[0;31m         super(Client, self).__init__(\n\u001b[0m\u001b[1;32m    246\u001b[0m             \u001b[0mproject\u001b[0m\u001b[0;34m=\u001b[0m\u001b[0mproject\u001b[0m\u001b[0;34m,\u001b[0m\u001b[0;34m\u001b[0m\u001b[0;34m\u001b[0m\u001b[0m\n\u001b[1;32m    247\u001b[0m             \u001b[0mcredentials\u001b[0m\u001b[0;34m=\u001b[0m\u001b[0mcredentials\u001b[0m\u001b[0;34m,\u001b[0m\u001b[0;34m\u001b[0m\u001b[0;34m\u001b[0m\u001b[0m\n",
      "\u001b[0;32m/opt/anaconda3/envs/trainingAI/lib/python3.9/site-packages/google/cloud/client/__init__.py\u001b[0m in \u001b[0;36m__init__\u001b[0;34m(self, project, credentials, client_options, _http)\u001b[0m\n\u001b[1;32m    318\u001b[0m \u001b[0;34m\u001b[0m\u001b[0m\n\u001b[1;32m    319\u001b[0m     \u001b[0;32mdef\u001b[0m \u001b[0m__init__\u001b[0m\u001b[0;34m(\u001b[0m\u001b[0mself\u001b[0m\u001b[0;34m,\u001b[0m \u001b[0mproject\u001b[0m\u001b[0;34m=\u001b[0m\u001b[0;32mNone\u001b[0m\u001b[0;34m,\u001b[0m \u001b[0mcredentials\u001b[0m\u001b[0;34m=\u001b[0m\u001b[0;32mNone\u001b[0m\u001b[0;34m,\u001b[0m \u001b[0mclient_options\u001b[0m\u001b[0;34m=\u001b[0m\u001b[0;32mNone\u001b[0m\u001b[0;34m,\u001b[0m \u001b[0m_http\u001b[0m\u001b[0;34m=\u001b[0m\u001b[0;32mNone\u001b[0m\u001b[0;34m)\u001b[0m\u001b[0;34m:\u001b[0m\u001b[0;34m\u001b[0m\u001b[0;34m\u001b[0m\u001b[0m\n\u001b[0;32m--> 320\u001b[0;31m         \u001b[0m_ClientProjectMixin\u001b[0m\u001b[0;34m.\u001b[0m\u001b[0m__init__\u001b[0m\u001b[0;34m(\u001b[0m\u001b[0mself\u001b[0m\u001b[0;34m,\u001b[0m \u001b[0mproject\u001b[0m\u001b[0;34m=\u001b[0m\u001b[0mproject\u001b[0m\u001b[0;34m,\u001b[0m \u001b[0mcredentials\u001b[0m\u001b[0;34m=\u001b[0m\u001b[0mcredentials\u001b[0m\u001b[0;34m)\u001b[0m\u001b[0;34m\u001b[0m\u001b[0;34m\u001b[0m\u001b[0m\n\u001b[0m\u001b[1;32m    321\u001b[0m         Client.__init__(\n\u001b[1;32m    322\u001b[0m             \u001b[0mself\u001b[0m\u001b[0;34m,\u001b[0m \u001b[0mcredentials\u001b[0m\u001b[0;34m=\u001b[0m\u001b[0mcredentials\u001b[0m\u001b[0;34m,\u001b[0m \u001b[0mclient_options\u001b[0m\u001b[0;34m=\u001b[0m\u001b[0mclient_options\u001b[0m\u001b[0;34m,\u001b[0m \u001b[0m_http\u001b[0m\u001b[0;34m=\u001b[0m\u001b[0m_http\u001b[0m\u001b[0;34m\u001b[0m\u001b[0;34m\u001b[0m\u001b[0m\n",
      "\u001b[0;32m/opt/anaconda3/envs/trainingAI/lib/python3.9/site-packages/google/cloud/client/__init__.py\u001b[0m in \u001b[0;36m__init__\u001b[0;34m(self, project, credentials)\u001b[0m\n\u001b[1;32m    266\u001b[0m \u001b[0;34m\u001b[0m\u001b[0m\n\u001b[1;32m    267\u001b[0m         \u001b[0;32mif\u001b[0m \u001b[0mproject\u001b[0m \u001b[0;32mis\u001b[0m \u001b[0;32mNone\u001b[0m\u001b[0;34m:\u001b[0m\u001b[0;34m\u001b[0m\u001b[0;34m\u001b[0m\u001b[0m\n\u001b[0;32m--> 268\u001b[0;31m             \u001b[0mproject\u001b[0m \u001b[0;34m=\u001b[0m \u001b[0mself\u001b[0m\u001b[0;34m.\u001b[0m\u001b[0m_determine_default\u001b[0m\u001b[0;34m(\u001b[0m\u001b[0mproject\u001b[0m\u001b[0;34m)\u001b[0m\u001b[0;34m\u001b[0m\u001b[0;34m\u001b[0m\u001b[0m\n\u001b[0m\u001b[1;32m    269\u001b[0m \u001b[0;34m\u001b[0m\u001b[0m\n\u001b[1;32m    270\u001b[0m         \u001b[0;32mif\u001b[0m \u001b[0mproject\u001b[0m \u001b[0;32mis\u001b[0m \u001b[0;32mNone\u001b[0m\u001b[0;34m:\u001b[0m\u001b[0;34m\u001b[0m\u001b[0;34m\u001b[0m\u001b[0m\n",
      "\u001b[0;32m/opt/anaconda3/envs/trainingAI/lib/python3.9/site-packages/google/cloud/client/__init__.py\u001b[0m in \u001b[0;36m_determine_default\u001b[0;34m(project)\u001b[0m\n\u001b[1;32m    285\u001b[0m     \u001b[0;32mdef\u001b[0m \u001b[0m_determine_default\u001b[0m\u001b[0;34m(\u001b[0m\u001b[0mproject\u001b[0m\u001b[0;34m)\u001b[0m\u001b[0;34m:\u001b[0m\u001b[0;34m\u001b[0m\u001b[0;34m\u001b[0m\u001b[0m\n\u001b[1;32m    286\u001b[0m         \u001b[0;34m\"\"\"Helper:  use default project detection.\"\"\"\u001b[0m\u001b[0;34m\u001b[0m\u001b[0;34m\u001b[0m\u001b[0m\n\u001b[0;32m--> 287\u001b[0;31m         \u001b[0;32mreturn\u001b[0m \u001b[0m_determine_default_project\u001b[0m\u001b[0;34m(\u001b[0m\u001b[0mproject\u001b[0m\u001b[0;34m)\u001b[0m\u001b[0;34m\u001b[0m\u001b[0;34m\u001b[0m\u001b[0m\n\u001b[0m\u001b[1;32m    288\u001b[0m \u001b[0;34m\u001b[0m\u001b[0m\n\u001b[1;32m    289\u001b[0m \u001b[0;34m\u001b[0m\u001b[0m\n",
      "\u001b[0;32m/opt/anaconda3/envs/trainingAI/lib/python3.9/site-packages/google/cloud/_helpers/__init__.py\u001b[0m in \u001b[0;36m_determine_default_project\u001b[0;34m(project)\u001b[0m\n\u001b[1;32m    150\u001b[0m     \"\"\"\n\u001b[1;32m    151\u001b[0m     \u001b[0;32mif\u001b[0m \u001b[0mproject\u001b[0m \u001b[0;32mis\u001b[0m \u001b[0;32mNone\u001b[0m\u001b[0;34m:\u001b[0m\u001b[0;34m\u001b[0m\u001b[0;34m\u001b[0m\u001b[0m\n\u001b[0;32m--> 152\u001b[0;31m         \u001b[0m_\u001b[0m\u001b[0;34m,\u001b[0m \u001b[0mproject\u001b[0m \u001b[0;34m=\u001b[0m \u001b[0mgoogle\u001b[0m\u001b[0;34m.\u001b[0m\u001b[0mauth\u001b[0m\u001b[0;34m.\u001b[0m\u001b[0mdefault\u001b[0m\u001b[0;34m(\u001b[0m\u001b[0;34m)\u001b[0m\u001b[0;34m\u001b[0m\u001b[0;34m\u001b[0m\u001b[0m\n\u001b[0m\u001b[1;32m    153\u001b[0m     \u001b[0;32mreturn\u001b[0m \u001b[0mproject\u001b[0m\u001b[0;34m\u001b[0m\u001b[0;34m\u001b[0m\u001b[0m\n\u001b[1;32m    154\u001b[0m \u001b[0;34m\u001b[0m\u001b[0m\n",
      "\u001b[0;32m/opt/anaconda3/envs/trainingAI/lib/python3.9/site-packages/google/auth/_default.py\u001b[0m in \u001b[0;36mdefault\u001b[0;34m(scopes, request, quota_project_id, default_scopes)\u001b[0m\n\u001b[1;32m    690\u001b[0m             \u001b[0;32mreturn\u001b[0m \u001b[0mcredentials\u001b[0m\u001b[0;34m,\u001b[0m \u001b[0meffective_project_id\u001b[0m\u001b[0;34m\u001b[0m\u001b[0;34m\u001b[0m\u001b[0m\n\u001b[1;32m    691\u001b[0m \u001b[0;34m\u001b[0m\u001b[0m\n\u001b[0;32m--> 692\u001b[0;31m     \u001b[0;32mraise\u001b[0m \u001b[0mexceptions\u001b[0m\u001b[0;34m.\u001b[0m\u001b[0mDefaultCredentialsError\u001b[0m\u001b[0;34m(\u001b[0m\u001b[0m_CLOUD_SDK_MISSING_CREDENTIALS\u001b[0m\u001b[0;34m)\u001b[0m\u001b[0;34m\u001b[0m\u001b[0;34m\u001b[0m\u001b[0m\n\u001b[0m",
      "\u001b[0;31mDefaultCredentialsError\u001b[0m: Your default credentials were not found. To set up Application Default Credentials, see https://cloud.google.com/docs/authentication/external/set-up-adc for more information."
     ]
    }
   ],
   "source": [
    "from google.cloud import bigquery\n",
    "\n",
    "# Create a \"Client\" object\n",
    "client = bigquery.Client()\n",
    "\n",
    "# Construct a reference to the \"san_francisco\" dataset\n",
    "dataset_ref = client.dataset(\"san_francisco\", project=\"bigquery-public-data\")\n",
    "\n",
    "# API request - fetch the dataset\n",
    "dataset = client.get_dataset(dataset_ref)\n",
    "\n",
    "# Construct a reference to the \"bikeshare_trips\" table\n",
    "table_ref = dataset_ref.table(\"bikeshare_trips\")\n",
    "\n",
    "# API request - fetch the table\n",
    "table = client.get_table(table_ref)\n",
    "\n",
    "# Preview the first five lines of the table\n",
    "client.list_rows(table, max_results=5).to_dataframe()"
   ]
  },
  {
   "cell_type": "markdown",
   "id": "latest-wrist",
   "metadata": {
    "papermill": {
     "duration": 0.006979,
     "end_time": "2021-06-03T16:36:17.818286",
     "exception": false,
     "start_time": "2021-06-03T16:36:17.811307",
     "status": "completed"
    },
    "tags": []
   },
   "source": [
    "Each row of the table corresponds to a different bike trip, and we can use an analytic function to calculate the cumulative number of trips for each date in 2015."
   ]
  },
  {
   "cell_type": "code",
   "execution_count": 2,
   "id": "reflected-trash",
   "metadata": {
    "execution": {
     "iopub.execute_input": "2021-06-03T16:36:17.840331Z",
     "iopub.status.busy": "2021-06-03T16:36:17.839633Z",
     "iopub.status.idle": "2021-06-03T16:36:19.865689Z",
     "shell.execute_reply": "2021-06-03T16:36:19.865185Z"
    },
    "papermill": {
     "duration": 2.040363,
     "end_time": "2021-06-03T16:36:19.865821",
     "exception": false,
     "start_time": "2021-06-03T16:36:17.825458",
     "status": "completed"
    },
    "tags": []
   },
   "outputs": [
    {
     "name": "stderr",
     "output_type": "stream",
     "text": [
      "/opt/conda/lib/python3.7/site-packages/google/cloud/bigquery/client.py:440: UserWarning: Cannot create BigQuery Storage client, the dependency google-cloud-bigquery-storage is not installed.\n",
      "  \"Cannot create BigQuery Storage client, the dependency \"\n"
     ]
    },
    {
     "data": {
      "text/html": [
       "<div>\n",
       "<style scoped>\n",
       "    .dataframe tbody tr th:only-of-type {\n",
       "        vertical-align: middle;\n",
       "    }\n",
       "\n",
       "    .dataframe tbody tr th {\n",
       "        vertical-align: top;\n",
       "    }\n",
       "\n",
       "    .dataframe thead th {\n",
       "        text-align: right;\n",
       "    }\n",
       "</style>\n",
       "<table border=\"1\" class=\"dataframe\">\n",
       "  <thead>\n",
       "    <tr style=\"text-align: right;\">\n",
       "      <th></th>\n",
       "      <th>trip_date</th>\n",
       "      <th>num_trips</th>\n",
       "      <th>cumulative_trips</th>\n",
       "    </tr>\n",
       "  </thead>\n",
       "  <tbody>\n",
       "    <tr>\n",
       "      <th>0</th>\n",
       "      <td>2015-01-01</td>\n",
       "      <td>181</td>\n",
       "      <td>181</td>\n",
       "    </tr>\n",
       "    <tr>\n",
       "      <th>1</th>\n",
       "      <td>2015-01-02</td>\n",
       "      <td>428</td>\n",
       "      <td>609</td>\n",
       "    </tr>\n",
       "    <tr>\n",
       "      <th>2</th>\n",
       "      <td>2015-01-03</td>\n",
       "      <td>283</td>\n",
       "      <td>892</td>\n",
       "    </tr>\n",
       "    <tr>\n",
       "      <th>3</th>\n",
       "      <td>2015-01-04</td>\n",
       "      <td>206</td>\n",
       "      <td>1098</td>\n",
       "    </tr>\n",
       "    <tr>\n",
       "      <th>4</th>\n",
       "      <td>2015-01-05</td>\n",
       "      <td>1186</td>\n",
       "      <td>2284</td>\n",
       "    </tr>\n",
       "  </tbody>\n",
       "</table>\n",
       "</div>"
      ],
      "text/plain": [
       "    trip_date  num_trips  cumulative_trips\n",
       "0  2015-01-01        181               181\n",
       "1  2015-01-02        428               609\n",
       "2  2015-01-03        283               892\n",
       "3  2015-01-04        206              1098\n",
       "4  2015-01-05       1186              2284"
      ]
     },
     "execution_count": 2,
     "metadata": {},
     "output_type": "execute_result"
    }
   ],
   "source": [
    "# Query to count the (cumulative) number of trips per day\n",
    "num_trips_query = \"\"\"\n",
    "                  WITH trips_by_day AS\n",
    "                  (\n",
    "                  SELECT DATE(start_date) AS trip_date,\n",
    "                      COUNT(*) as num_trips\n",
    "                  FROM `bigquery-public-data.san_francisco.bikeshare_trips`\n",
    "                  WHERE EXTRACT(YEAR FROM start_date) = 2015\n",
    "                  GROUP BY trip_date\n",
    "                  )\n",
    "                  SELECT *,\n",
    "                      SUM(num_trips) \n",
    "                          OVER (\n",
    "                               ORDER BY trip_date\n",
    "                               ROWS BETWEEN UNBOUNDED PRECEDING AND CURRENT ROW\n",
    "                               ) AS cumulative_trips\n",
    "                      FROM trips_by_day\n",
    "                  \"\"\"\n",
    "\n",
    "# Run the query, and return a pandas DataFrame\n",
    "num_trips_result = client.query(num_trips_query).result().to_dataframe()\n",
    "num_trips_result.head()"
   ]
  },
  {
   "cell_type": "markdown",
   "id": "adapted-polish",
   "metadata": {
    "papermill": {
     "duration": 0.007546,
     "end_time": "2021-06-03T16:36:19.881241",
     "exception": false,
     "start_time": "2021-06-03T16:36:19.873695",
     "status": "completed"
    },
    "tags": []
   },
   "source": [
    "The query uses a [common table expression (CTE)](https://www.kaggle.com/dansbecker/as-with) to first calculate the daily number of trips.  Then, we use **SUM()** as an aggregate function.\n",
    "- Since there is no **PARTITION BY** clause, the entire table is treated as a single partition.\n",
    "- The **ORDER BY** clause orders the rows by date, where earlier dates appear first. \n",
    "- By setting the **window frame** clause to `ROWS BETWEEN UNBOUNDED PRECEDING AND CURRENT ROW`, we ensure that all rows up to and including the current date are used to calculate the (cumulative) sum.  (_**Note**: If you read [the documentation](https://cloud.google.com/bigquery/docs/reference/standard-sql/analytic-function-concepts), you'll see that this is the default behavior, and so the query would return the same result if we left out this **window frame** clause._)\n",
    "\n",
    "The next query tracks the stations where each bike began (in `start_station_id`) and ended (in `end_station_id`) the day on October 25, 2015."
   ]
  },
  {
   "cell_type": "code",
   "execution_count": 3,
   "id": "african-accessory",
   "metadata": {
    "execution": {
     "iopub.execute_input": "2021-06-03T16:36:19.904119Z",
     "iopub.status.busy": "2021-06-03T16:36:19.903532Z",
     "iopub.status.idle": "2021-06-03T16:36:22.106306Z",
     "shell.execute_reply": "2021-06-03T16:36:22.106754Z"
    },
    "papermill": {
     "duration": 2.217587,
     "end_time": "2021-06-03T16:36:22.106927",
     "exception": false,
     "start_time": "2021-06-03T16:36:19.889340",
     "status": "completed"
    },
    "tags": []
   },
   "outputs": [
    {
     "name": "stderr",
     "output_type": "stream",
     "text": [
      "/opt/conda/lib/python3.7/site-packages/google/cloud/bigquery/client.py:440: UserWarning: Cannot create BigQuery Storage client, the dependency google-cloud-bigquery-storage is not installed.\n",
      "  \"Cannot create BigQuery Storage client, the dependency \"\n"
     ]
    },
    {
     "data": {
      "text/html": [
       "<div>\n",
       "<style scoped>\n",
       "    .dataframe tbody tr th:only-of-type {\n",
       "        vertical-align: middle;\n",
       "    }\n",
       "\n",
       "    .dataframe tbody tr th {\n",
       "        vertical-align: top;\n",
       "    }\n",
       "\n",
       "    .dataframe thead th {\n",
       "        text-align: right;\n",
       "    }\n",
       "</style>\n",
       "<table border=\"1\" class=\"dataframe\">\n",
       "  <thead>\n",
       "    <tr style=\"text-align: right;\">\n",
       "      <th></th>\n",
       "      <th>bike_number</th>\n",
       "      <th>trip_time</th>\n",
       "      <th>first_station_id</th>\n",
       "      <th>last_station_id</th>\n",
       "      <th>start_station_id</th>\n",
       "      <th>end_station_id</th>\n",
       "    </tr>\n",
       "  </thead>\n",
       "  <tbody>\n",
       "    <tr>\n",
       "      <th>0</th>\n",
       "      <td>25</td>\n",
       "      <td>11:43:00</td>\n",
       "      <td>77</td>\n",
       "      <td>51</td>\n",
       "      <td>77</td>\n",
       "      <td>60</td>\n",
       "    </tr>\n",
       "    <tr>\n",
       "      <th>1</th>\n",
       "      <td>25</td>\n",
       "      <td>12:14:00</td>\n",
       "      <td>77</td>\n",
       "      <td>51</td>\n",
       "      <td>60</td>\n",
       "      <td>51</td>\n",
       "    </tr>\n",
       "    <tr>\n",
       "      <th>2</th>\n",
       "      <td>111</td>\n",
       "      <td>14:41:00</td>\n",
       "      <td>69</td>\n",
       "      <td>65</td>\n",
       "      <td>69</td>\n",
       "      <td>65</td>\n",
       "    </tr>\n",
       "    <tr>\n",
       "      <th>3</th>\n",
       "      <td>403</td>\n",
       "      <td>16:54:00</td>\n",
       "      <td>51</td>\n",
       "      <td>54</td>\n",
       "      <td>51</td>\n",
       "      <td>54</td>\n",
       "    </tr>\n",
       "    <tr>\n",
       "      <th>4</th>\n",
       "      <td>431</td>\n",
       "      <td>12:55:00</td>\n",
       "      <td>73</td>\n",
       "      <td>55</td>\n",
       "      <td>73</td>\n",
       "      <td>55</td>\n",
       "    </tr>\n",
       "  </tbody>\n",
       "</table>\n",
       "</div>"
      ],
      "text/plain": [
       "   bike_number trip_time  first_station_id  last_station_id  start_station_id  \\\n",
       "0           25  11:43:00                77               51                77   \n",
       "1           25  12:14:00                77               51                60   \n",
       "2          111  14:41:00                69               65                69   \n",
       "3          403  16:54:00                51               54                51   \n",
       "4          431  12:55:00                73               55                73   \n",
       "\n",
       "   end_station_id  \n",
       "0              60  \n",
       "1              51  \n",
       "2              65  \n",
       "3              54  \n",
       "4              55  "
      ]
     },
     "execution_count": 3,
     "metadata": {},
     "output_type": "execute_result"
    }
   ],
   "source": [
    "# Query to track beginning and ending stations on October 25, 2015, for each bike\n",
    "start_end_query = \"\"\"\n",
    "                  SELECT bike_number,\n",
    "                      TIME(start_date) AS trip_time,\n",
    "                      FIRST_VALUE(start_station_id)\n",
    "                          OVER (\n",
    "                               PARTITION BY bike_number\n",
    "                               ORDER BY start_date\n",
    "                               ROWS BETWEEN UNBOUNDED PRECEDING AND UNBOUNDED FOLLOWING\n",
    "                               ) AS first_station_id,\n",
    "                      LAST_VALUE(end_station_id)\n",
    "                          OVER (\n",
    "                               PARTITION BY bike_number\n",
    "                               ORDER BY start_date\n",
    "                               ROWS BETWEEN UNBOUNDED PRECEDING AND UNBOUNDED FOLLOWING\n",
    "                               ) AS last_station_id,\n",
    "                      start_station_id,\n",
    "                      end_station_id\n",
    "                  FROM `bigquery-public-data.san_francisco.bikeshare_trips`\n",
    "                  WHERE DATE(start_date) = '2015-10-25' \n",
    "                  \"\"\"\n",
    "\n",
    "# Run the query, and return a pandas DataFrame\n",
    "start_end_result = client.query(start_end_query).result().to_dataframe()\n",
    "start_end_result.head()"
   ]
  },
  {
   "cell_type": "markdown",
   "id": "d42674a9",
   "metadata": {
    "papermill": {
     "duration": 0.008319,
     "end_time": "2021-06-03T16:36:22.124039",
     "exception": false,
     "start_time": "2021-06-03T16:36:22.115720",
     "status": "completed"
    },
    "tags": []
   },
   "source": [
    "The query uses both **FIRST_VALUE()** and **LAST_VALUE()** as analytic functions.\n",
    "- The **PARTITION BY** clause breaks the data into partitions based on the `bike_number` column.  Since this column holds unique identifiers for the bikes, this ensures the calculations are performed separately for each bike.\n",
    "- The **ORDER BY** clause puts the rows within each partition in chronological order.\n",
    "- Since the **window frame** clause is `ROWS BETWEEN UNBOUNDED PRECEDING AND UNBOUNDED FOLLOWING`, for each row, its entire partition is used to perform the calculation.  (_This ensures the calculated values for rows in the same partition are identical._)"
   ]
  },
  {
   "cell_type": "code",
   "execution_count": null,
   "id": "e40261aa",
   "metadata": {},
   "outputs": [],
   "source": []
  }
 ],
 "metadata": {
  "hide_input": false,
  "kernelspec": {
   "display_name": "trainingAI",
   "language": "python",
   "name": "trainingai"
  },
  "language_info": {
   "codemirror_mode": {
    "name": "ipython",
    "version": 3
   },
   "file_extension": ".py",
   "mimetype": "text/x-python",
   "name": "python",
   "nbconvert_exporter": "python",
   "pygments_lexer": "ipython3",
   "version": "3.9.7"
  },
  "papermill": {
   "default_parameters": {},
   "duration": 12.695953,
   "end_time": "2021-06-03T16:36:23.744735",
   "environment_variables": {},
   "exception": null,
   "input_path": "__notebook__.ipynb",
   "output_path": "__notebook__.ipynb",
   "parameters": {},
   "start_time": "2021-06-03T16:36:11.048782",
   "version": "2.3.2"
  },
  "toc": {
   "base_numbering": 1,
   "nav_menu": {},
   "number_sections": true,
   "sideBar": true,
   "skip_h1_title": false,
   "title_cell": "Table of Contents",
   "title_sidebar": "Contents",
   "toc_cell": false,
   "toc_position": {},
   "toc_section_display": true,
   "toc_window_display": false
  },
  "varInspector": {
   "cols": {
    "lenName": 16,
    "lenType": 16,
    "lenVar": 40
   },
   "kernels_config": {
    "python": {
     "delete_cmd_postfix": "",
     "delete_cmd_prefix": "del ",
     "library": "var_list.py",
     "varRefreshCmd": "print(var_dic_list())"
    },
    "r": {
     "delete_cmd_postfix": ") ",
     "delete_cmd_prefix": "rm(",
     "library": "var_list.r",
     "varRefreshCmd": "cat(var_dic_list()) "
    }
   },
   "types_to_exclude": [
    "module",
    "function",
    "builtin_function_or_method",
    "instance",
    "_Feature"
   ],
   "window_display": false
  }
 },
 "nbformat": 4,
 "nbformat_minor": 5
}
